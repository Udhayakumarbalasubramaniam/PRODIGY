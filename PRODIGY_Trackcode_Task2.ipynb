{
  "metadata": {
    "kernelspec": {
      "language": "python",
      "display_name": "Python 3",
      "name": "python3"
    },
    "language_info": {
      "name": "python",
      "version": "3.10.13",
      "mimetype": "text/x-python",
      "codemirror_mode": {
        "name": "ipython",
        "version": 3
      },
      "pygments_lexer": "ipython3",
      "nbconvert_exporter": "python",
      "file_extension": ".py"
    },
    "kaggle": {
      "accelerator": "none",
      "dataSources": [
        {
          "sourceId": 74935,
          "sourceType": "datasetVersion",
          "datasetId": 42674
        }
      ],
      "dockerImageVersionId": 30698,
      "isInternetEnabled": true,
      "language": "python",
      "sourceType": "notebook",
      "isGpuEnabled": false
    },
    "colab": {
      "provenance": [],
      "include_colab_link": true
    }
  },
  "nbformat_minor": 0,
  "nbformat": 4,
  "cells": [
    {
      "cell_type": "markdown",
      "metadata": {
        "id": "view-in-github",
        "colab_type": "text"
      },
      "source": [
        "<a href=\"https://colab.research.google.com/github/Udhayakumarbalasubramaniam/PRODIGY/blob/main/PRODIGY_Trackcode_Task2.ipynb\" target=\"_parent\"><img src=\"https://colab.research.google.com/assets/colab-badge.svg\" alt=\"Open In Colab\"/></a>"
      ]
    },
    {
      "source": [
        "\n",
        "# IMPORTANT: RUN THIS CELL IN ORDER TO IMPORT YOUR KAGGLE DATA SOURCES\n",
        "# TO THE CORRECT LOCATION (/kaggle/input) IN YOUR NOTEBOOK,\n",
        "# THEN FEEL FREE TO DELETE THIS CELL.\n",
        "# NOTE: THIS NOTEBOOK ENVIRONMENT DIFFERS FROM KAGGLE'S PYTHON\n",
        "# ENVIRONMENT SO THERE MAY BE MISSING LIBRARIES USED BY YOUR\n",
        "# NOTEBOOK.\n",
        "\n",
        "import os\n",
        "import sys\n",
        "from tempfile import NamedTemporaryFile\n",
        "from urllib.request import urlopen\n",
        "from urllib.parse import unquote, urlparse\n",
        "from urllib.error import HTTPError\n",
        "from zipfile import ZipFile\n",
        "import tarfile\n",
        "import shutil\n",
        "\n",
        "CHUNK_SIZE = 40960\n",
        "DATA_SOURCE_MAPPING = 'customer-segmentation-tutorial-in-python:https%3A%2F%2Fstorage.googleapis.com%2Fkaggle-data-sets%2F42674%2F74935%2Fbundle%2Farchive.zip%3FX-Goog-Algorithm%3DGOOG4-RSA-SHA256%26X-Goog-Credential%3Dgcp-kaggle-com%2540kaggle-161607.iam.gserviceaccount.com%252F20240603%252Fauto%252Fstorage%252Fgoog4_request%26X-Goog-Date%3D20240603T004035Z%26X-Goog-Expires%3D259200%26X-Goog-SignedHeaders%3Dhost%26X-Goog-Signature%3D3a80ea2f930bb276219e1c5cfe558b2b572ff2dd4d7f66dbe940b274be329677e756f8434ff8e471e02e4c4a6ad9e6eed88e97d509c89e94ea278fd7136f7aace18966bcb51a24db08ce0019c3535f0dfa7637e8fad714ffd7bad5f6222a82b71445a70170aee01f1c29a27253d6487488d14720c7d1621e67b89b086df04487ff3aafd93ed5ab09c0698adb3913bd9f5dc9e2f19e746bfc7d72112840eb487e60575c836278374a656a177f43f9b81cfafa58b17e8272c6fa0c84f3cc0ac46a6f53fc1d263354a0b185f9e1d127795b223df4d12a2edfe11fc577e16d1b2aad39da1291c9951d71d6108d36362056df977ce9ad212b8d9cddbeec0c0e9a656d'\n",
        "\n",
        "KAGGLE_INPUT_PATH='/kaggle/input'\n",
        "KAGGLE_WORKING_PATH='/kaggle/working'\n",
        "KAGGLE_SYMLINK='kaggle'\n",
        "\n",
        "!umount /kaggle/input/ 2> /dev/null\n",
        "shutil.rmtree('/kaggle/input', ignore_errors=True)\n",
        "os.makedirs(KAGGLE_INPUT_PATH, 0o777, exist_ok=True)\n",
        "os.makedirs(KAGGLE_WORKING_PATH, 0o777, exist_ok=True)\n",
        "\n",
        "try:\n",
        "  os.symlink(KAGGLE_INPUT_PATH, os.path.join(\"..\", 'input'), target_is_directory=True)\n",
        "except FileExistsError:\n",
        "  pass\n",
        "try:\n",
        "  os.symlink(KAGGLE_WORKING_PATH, os.path.join(\"..\", 'working'), target_is_directory=True)\n",
        "except FileExistsError:\n",
        "  pass\n",
        "\n",
        "for data_source_mapping in DATA_SOURCE_MAPPING.split(','):\n",
        "    directory, download_url_encoded = data_source_mapping.split(':')\n",
        "    download_url = unquote(download_url_encoded)\n",
        "    filename = urlparse(download_url).path\n",
        "    destination_path = os.path.join(KAGGLE_INPUT_PATH, directory)\n",
        "    try:\n",
        "        with urlopen(download_url) as fileres, NamedTemporaryFile() as tfile:\n",
        "            total_length = fileres.headers['content-length']\n",
        "            print(f'Downloading {directory}, {total_length} bytes compressed')\n",
        "            dl = 0\n",
        "            data = fileres.read(CHUNK_SIZE)\n",
        "            while len(data) > 0:\n",
        "                dl += len(data)\n",
        "                tfile.write(data)\n",
        "                done = int(50 * dl / int(total_length))\n",
        "                sys.stdout.write(f\"\\r[{'=' * done}{' ' * (50-done)}] {dl} bytes downloaded\")\n",
        "                sys.stdout.flush()\n",
        "                data = fileres.read(CHUNK_SIZE)\n",
        "            if filename.endswith('.zip'):\n",
        "              with ZipFile(tfile) as zfile:\n",
        "                zfile.extractall(destination_path)\n",
        "            else:\n",
        "              with tarfile.open(tfile.name) as tarfile:\n",
        "                tarfile.extractall(destination_path)\n",
        "            print(f'\\nDownloaded and uncompressed: {directory}')\n",
        "    except HTTPError as e:\n",
        "        print(f'Failed to load (likely expired) {download_url} to path {destination_path}')\n",
        "        continue\n",
        "    except OSError as e:\n",
        "        print(f'Failed to load {download_url} to path {destination_path}')\n",
        "        continue\n",
        "\n",
        "print('Data source import complete.')\n"
      ],
      "metadata": {
        "id": "sNl5Z0A3ipxJ"
      },
      "cell_type": "code",
      "outputs": [],
      "execution_count": null
    },
    {
      "cell_type": "markdown",
      "source": [
        "# This notebook is for the practice purpose for my data science skill\n",
        "\n",
        "Here, all about the needed basic skill of EDA and basic modeling along with visualization along various interactive libraries like plotly, altair, seaborn and so on will be done\n"
      ],
      "metadata": {
        "id": "mwiITIinipxZ"
      }
    },
    {
      "cell_type": "code",
      "source": [
        "# This Python 3 environment comes with many helpful analytics libraries installed\n",
        "# It is defined by the kaggle/python Docker image: https://github.com/kaggle/docker-python\n",
        "# For example, here's several helpful packages to load\n",
        "\n",
        "import numpy as np # linear algebra\n",
        "import pandas as pd # data processing, CSV file I/O (e.g. pd.read_csv)\n",
        "\n",
        "# Input data files are available in the read-only \"../input/\" directory\n",
        "# For example, running this (by clicking run or pressing Shift+Enter) will list all files under the input directory\n",
        "\n",
        "import os\n",
        "for dirname, _, filenames in os.walk('/kaggle/input'):\n",
        "    for filename in filenames:\n",
        "        print(os.path.join(dirname, filename))\n",
        "\n",
        "# You can write up to 20GB to the current directory (/kaggle/working/) that gets preserved as output when you create a version using \"Save & Run All\"\n",
        "# You can also write temporary files to /kaggle/temp/, but they won't be saved outside of the current session"
      ],
      "metadata": {
        "_uuid": "8f2839f25d086af736a60e9eeb907d3b93b6e0e5",
        "_cell_guid": "b1076dfc-b9ad-4769-8c92-a6c4dae69d19",
        "execution": {
          "iopub.status.busy": "2024-05-16T10:40:25.2066Z",
          "iopub.execute_input": "2024-05-16T10:40:25.207033Z",
          "iopub.status.idle": "2024-05-16T10:40:25.759248Z",
          "shell.execute_reply.started": "2024-05-16T10:40:25.206991Z",
          "shell.execute_reply": "2024-05-16T10:40:25.757867Z"
        },
        "trusted": true,
        "id": "yWRXnjxtipxd"
      },
      "execution_count": null,
      "outputs": []
    },
    {
      "cell_type": "markdown",
      "source": [
        "# 1. Import all necessary packages"
      ],
      "metadata": {
        "id": "dLnt_hC1ipxe"
      }
    },
    {
      "cell_type": "code",
      "source": [
        "#Import packages\n",
        "import pandas as pd\n",
        "import numpy as np\n",
        "from collections import Counter\n",
        "\n",
        "#For visualization\n",
        "import seaborn as sns\n",
        "import plotly.express as px\n",
        "import matplotlib.pyplot as plt\n",
        "\n",
        "\n",
        "#For other models\n",
        "from sklearn.cluster import KMeans, AgglomerativeClustering, DBSCAN\n",
        "from kmodes.kmodes import KModes\n",
        "from kmodes import kprototypes\n",
        "\n",
        "#Calculate distance matrix to cluster mixed data type\n",
        "from scipy.spatial import distance_matrix\n",
        "\n",
        "#For calculate solhouette_score\n",
        "from sklearn.metrics import silhouette_score\n",
        "\n",
        "#For Encoding\n",
        "from sklearn.preprocessing import StandardScaler, OneHotEncoder, OrdinalEncoder\n",
        "\n",
        "\n",
        "# For metrics and helpful functions\n",
        "from scipy.cluster.hierarchy import linkage, dendrogram, fcluster\n",
        "\n",
        "#warning\n",
        "import warnings"
      ],
      "metadata": {
        "execution": {
          "iopub.status.busy": "2024-05-16T10:40:25.762267Z",
          "iopub.execute_input": "2024-05-16T10:40:25.763079Z",
          "iopub.status.idle": "2024-05-16T10:40:27.909244Z",
          "shell.execute_reply.started": "2024-05-16T10:40:25.763025Z",
          "shell.execute_reply": "2024-05-16T10:40:27.907759Z"
        },
        "trusted": true,
        "id": "5-QnHH6mipxg"
      },
      "execution_count": null,
      "outputs": []
    },
    {
      "cell_type": "code",
      "source": [
        "warnings.filterwarnings(\"ignore\") # To prevent kernel from showing any warning"
      ],
      "metadata": {
        "execution": {
          "iopub.status.busy": "2024-05-16T10:40:27.913754Z",
          "iopub.execute_input": "2024-05-16T10:40:27.91414Z",
          "iopub.status.idle": "2024-05-16T10:40:27.924743Z",
          "shell.execute_reply.started": "2024-05-16T10:40:27.91411Z",
          "shell.execute_reply": "2024-05-16T10:40:27.923167Z"
        },
        "trusted": true,
        "id": "YMiRJSFbipxi"
      },
      "execution_count": null,
      "outputs": []
    },
    {
      "cell_type": "markdown",
      "source": [
        "# 2. Load Dataset"
      ],
      "metadata": {
        "id": "I719Ep0tipxl"
      }
    },
    {
      "cell_type": "code",
      "source": [
        "#Load dataset\n",
        "df = pd.read_csv('/kaggle/input/customer-segmentation-tutorial-in-python/Mall_Customers.csv')\n",
        "#Display first 10 rows of dataset\n",
        "df.head(10)"
      ],
      "metadata": {
        "execution": {
          "iopub.status.busy": "2024-05-16T10:40:27.929198Z",
          "iopub.execute_input": "2024-05-16T10:40:27.9303Z",
          "iopub.status.idle": "2024-05-16T10:40:27.980165Z",
          "shell.execute_reply.started": "2024-05-16T10:40:27.930242Z",
          "shell.execute_reply": "2024-05-16T10:40:27.978857Z"
        },
        "trusted": true,
        "id": "YWy9t4mLipxm"
      },
      "execution_count": null,
      "outputs": []
    },
    {
      "cell_type": "code",
      "source": [
        "#Rename columns\n",
        "df = df.rename(columns={\"Annual Income (k$)\": \"Annual Income\", \"Spending Score (1-100)\": \"Spending Score\"})\n",
        "#Display bottom 10 rows\n",
        "df.tail(10)"
      ],
      "metadata": {
        "execution": {
          "iopub.status.busy": "2024-05-16T10:40:27.982235Z",
          "iopub.execute_input": "2024-05-16T10:40:27.98307Z",
          "iopub.status.idle": "2024-05-16T10:40:28.001745Z",
          "shell.execute_reply.started": "2024-05-16T10:40:27.983019Z",
          "shell.execute_reply": "2024-05-16T10:40:28.000256Z"
        },
        "trusted": true,
        "id": "Bbq1Q7gIipxo"
      },
      "execution_count": null,
      "outputs": []
    },
    {
      "cell_type": "markdown",
      "source": [
        "# 3. EDA (Exploratory Data Analysis)"
      ],
      "metadata": {
        "id": "wYI2_I2_ipxp"
      }
    },
    {
      "cell_type": "markdown",
      "source": [
        "## 3.1 Basic Info"
      ],
      "metadata": {
        "id": "DA_9e1Dzipxp"
      }
    },
    {
      "cell_type": "code",
      "source": [
        "#Data shape\n",
        "print(f'There are {df.shape[0]} rows and {df.shape[1]} columns in the data')"
      ],
      "metadata": {
        "execution": {
          "iopub.status.busy": "2024-05-16T10:40:28.004381Z",
          "iopub.execute_input": "2024-05-16T10:40:28.004972Z",
          "iopub.status.idle": "2024-05-16T10:40:28.026702Z",
          "shell.execute_reply.started": "2024-05-16T10:40:28.004922Z",
          "shell.execute_reply": "2024-05-16T10:40:28.024911Z"
        },
        "trusted": true,
        "id": "oeTxiDOUipxq"
      },
      "execution_count": null,
      "outputs": []
    },
    {
      "cell_type": "code",
      "source": [
        "#dataset info\n",
        "df.info()"
      ],
      "metadata": {
        "execution": {
          "iopub.status.busy": "2024-05-16T10:40:28.029758Z",
          "iopub.execute_input": "2024-05-16T10:40:28.03077Z",
          "iopub.status.idle": "2024-05-16T10:40:28.074605Z",
          "shell.execute_reply.started": "2024-05-16T10:40:28.030724Z",
          "shell.execute_reply": "2024-05-16T10:40:28.073283Z"
        },
        "trusted": true,
        "id": "Xsax0HiMipxr"
      },
      "execution_count": null,
      "outputs": []
    },
    {
      "cell_type": "markdown",
      "source": [
        "**Pandas**  is a popular heterogeneous data managing library that hold data in 2 form either in Series or in data frame, heere data is in data frame,it is very much used while manipulation of heterogenous data."
      ],
      "metadata": {
        "id": "MYcXCxMripxt"
      }
    },
    {
      "cell_type": "markdown",
      "source": [
        "## 3.2 Check for missing and duplicate values"
      ],
      "metadata": {
        "id": "M_XlO8T9ipxt"
      }
    },
    {
      "cell_type": "code",
      "source": [
        "#Check for missing value\n",
        "df.isna().sum()"
      ],
      "metadata": {
        "execution": {
          "iopub.status.busy": "2024-05-16T10:40:28.076404Z",
          "iopub.execute_input": "2024-05-16T10:40:28.077632Z",
          "iopub.status.idle": "2024-05-16T10:40:28.089337Z",
          "shell.execute_reply.started": "2024-05-16T10:40:28.077561Z",
          "shell.execute_reply": "2024-05-16T10:40:28.088016Z"
        },
        "trusted": true,
        "id": "EWGCFFPUipxu"
      },
      "execution_count": null,
      "outputs": []
    },
    {
      "cell_type": "code",
      "source": [
        "#Check for duplicates\n",
        "df.duplicated().sum()"
      ],
      "metadata": {
        "execution": {
          "iopub.status.busy": "2024-05-16T10:40:28.091164Z",
          "iopub.execute_input": "2024-05-16T10:40:28.092635Z",
          "iopub.status.idle": "2024-05-16T10:40:28.105399Z",
          "shell.execute_reply.started": "2024-05-16T10:40:28.092562Z",
          "shell.execute_reply": "2024-05-16T10:40:28.104144Z"
        },
        "trusted": true,
        "id": "euyeEfPwipxv"
      },
      "execution_count": null,
      "outputs": []
    },
    {
      "cell_type": "markdown",
      "source": [
        "## 3.3 Drop unecessary columns"
      ],
      "metadata": {
        "id": "7rbU1Wopipxy"
      }
    },
    {
      "cell_type": "code",
      "source": [
        "#Drop `CustomerID` that not need for modeling\n",
        "clean_df = df.drop(['CustomerID'],axis=1)\n",
        "\n",
        "clean_df.head(7)"
      ],
      "metadata": {
        "execution": {
          "iopub.status.busy": "2024-05-16T10:40:28.111454Z",
          "iopub.execute_input": "2024-05-16T10:40:28.112765Z",
          "iopub.status.idle": "2024-05-16T10:40:28.130625Z",
          "shell.execute_reply.started": "2024-05-16T10:40:28.112712Z",
          "shell.execute_reply": "2024-05-16T10:40:28.129396Z"
        },
        "trusted": true,
        "id": "F8-Pjotpipxz"
      },
      "execution_count": null,
      "outputs": []
    },
    {
      "cell_type": "markdown",
      "source": [
        "## 3.4 Descriptive statistics about the data"
      ],
      "metadata": {
        "id": "rXSU6e9aipx0"
      }
    },
    {
      "cell_type": "code",
      "source": [
        "#Display basic descriptive stats\n",
        "clean_df.describe()"
      ],
      "metadata": {
        "execution": {
          "iopub.status.busy": "2024-05-16T10:40:28.132475Z",
          "iopub.execute_input": "2024-05-16T10:40:28.133264Z",
          "iopub.status.idle": "2024-05-16T10:40:28.166125Z",
          "shell.execute_reply.started": "2024-05-16T10:40:28.133218Z",
          "shell.execute_reply": "2024-05-16T10:40:28.164552Z"
        },
        "trusted": true,
        "id": "0HiIDI_Zipx1"
      },
      "execution_count": null,
      "outputs": []
    },
    {
      "cell_type": "markdown",
      "source": [
        "This provide a very general overview of our data that help in the initial phase of data analysis."
      ],
      "metadata": {
        "id": "FW-nezp7ipx2"
      }
    },
    {
      "cell_type": "markdown",
      "source": [
        "## 3.5 Check & Handle outliers"
      ],
      "metadata": {
        "id": "F1QjMu_yipx3"
      }
    },
    {
      "cell_type": "code",
      "source": [
        "#Create subplot to visualize outliers\n",
        "fig = px.box(clean_df, y=\"Annual Income\")\n",
        "fig.show()"
      ],
      "metadata": {
        "execution": {
          "iopub.status.busy": "2024-05-16T10:40:28.168074Z",
          "iopub.execute_input": "2024-05-16T10:40:28.168569Z",
          "iopub.status.idle": "2024-05-16T10:40:30.611181Z",
          "shell.execute_reply.started": "2024-05-16T10:40:28.168529Z",
          "shell.execute_reply": "2024-05-16T10:40:30.609503Z"
        },
        "trusted": true,
        "id": "qwFww2JKipx4"
      },
      "execution_count": null,
      "outputs": []
    },
    {
      "cell_type": "markdown",
      "source": [
        "**Plotly** is an interactive visualizing app which is used mostly after one get good at visulization knowledge initiated mostly through matplotlib."
      ],
      "metadata": {
        "id": "BlKbBxXnipx5"
      }
    },
    {
      "cell_type": "markdown",
      "source": [
        "This function could be used for the calculation of outliers in the dataset, since we don't have much in our data, which is clearly visible in the box plot."
      ],
      "metadata": {
        "id": "Rv0mUPW0ipx9"
      }
    },
    {
      "cell_type": "code",
      "source": [
        "#Create function to calculate the upper limit, lower limit, number of outliers and their % in dataset for each specified column\n",
        "def calculate_outliers(df, column_names):\n",
        "    \"\"\"\n",
        "    Calculate upper limit, lower limit, number of outliers and the % in dataset for each specified column .\n",
        "\n",
        "    Parameters:\n",
        "    - df (pd.DataFrame): The DataFrame containing the data and need to calculate outliers\n",
        "    - column_names (list): A list of column names to analyze for outliers.\n",
        "\n",
        "    Returns:\n",
        "    - pd.DataFrame: A DataFrame containing information about outliers for each specified column.\n",
        "      Columns: ['Column', 'Number of Outliers', '% Outliers', 'Lower Limit', 'Upper Limit']\n",
        "    \"\"\"\n",
        "\n",
        "    # Calculate the number of columns and rows for subplots\n",
        "    col_len = len(column_names)\n",
        "    if col_len % 2 == 0:\n",
        "      num_columns = 2\n",
        "      num_rows = col_len // 2\n",
        "    else:\n",
        "      num_columns = col_len\n",
        "      num_rows = 1\n",
        "\n",
        "\n",
        "    # Initialize a list to store outlier information for each column\n",
        "    outlier_data = []\n",
        "\n",
        "    # Iterate over column_names and create subplots\n",
        "    for i, column_name in enumerate(column_names):\n",
        "        data = df[column_name]\n",
        "\n",
        "        # Calculate quartiles and interquartile range using np.percentile\n",
        "        q1, q3 = np.percentile(data, [25, 75])\n",
        "        iqr = q3 - q1\n",
        "\n",
        "        # Define lower and upper limits for outlier detection\n",
        "        low_lim, upp_lim = q1 - 1.5 * iqr, q3 + 1.5 * iqr\n",
        "\n",
        "        # Find and display outliers\n",
        "        outliers = df[(data < low_lim) | (data > upp_lim)][column_name]\n",
        "        num_outliers = len(outliers)\n",
        "        percent_outliers = round(num_outliers / len(df) * 100, 1)\n",
        "\n",
        "        # Append outlier information to the list\n",
        "        outlier_data.append([column_name, num_outliers, percent_outliers, round(low_lim, 1), round(upp_lim, 1)])\n",
        "\n",
        "\n",
        "    # Combine the outlier information into a DataFrame\n",
        "    outlier_df = pd.DataFrame(outlier_data,\n",
        "                              columns = ['Column', 'Number of Outliers', '% Outliers', 'Lower Limit', 'Upper Limit'])\n",
        "    return outlier_df"
      ],
      "metadata": {
        "execution": {
          "iopub.status.busy": "2024-05-16T10:40:30.61439Z",
          "iopub.execute_input": "2024-05-16T10:40:30.614999Z",
          "iopub.status.idle": "2024-05-16T10:40:30.633402Z",
          "shell.execute_reply.started": "2024-05-16T10:40:30.614952Z",
          "shell.execute_reply": "2024-05-16T10:40:30.631756Z"
        },
        "trusted": true,
        "id": "AZp9LKELipx9"
      },
      "execution_count": null,
      "outputs": []
    },
    {
      "cell_type": "code",
      "source": [
        "#Define column to check\n",
        "col=['Annual Income']\n",
        "#use function `calculate_outliers` to detect and visualize outliers in table\n",
        "outliers_table = calculate_outliers(clean_df,col)\n",
        "#Display outliers table\n",
        "outliers_table"
      ],
      "metadata": {
        "execution": {
          "iopub.status.busy": "2024-05-16T10:40:30.636087Z",
          "iopub.execute_input": "2024-05-16T10:40:30.636989Z",
          "iopub.status.idle": "2024-05-16T10:40:30.668657Z",
          "shell.execute_reply.started": "2024-05-16T10:40:30.636922Z",
          "shell.execute_reply": "2024-05-16T10:40:30.667512Z"
        },
        "trusted": true,
        "id": "E4__nJuvipx_"
      },
      "execution_count": null,
      "outputs": []
    },
    {
      "cell_type": "code",
      "source": [
        "clean_df['Gender'].value_counts()"
      ],
      "metadata": {
        "execution": {
          "iopub.status.busy": "2024-05-16T10:40:30.669928Z",
          "iopub.execute_input": "2024-05-16T10:40:30.670834Z",
          "iopub.status.idle": "2024-05-16T10:40:30.681647Z",
          "shell.execute_reply.started": "2024-05-16T10:40:30.670792Z",
          "shell.execute_reply": "2024-05-16T10:40:30.680643Z"
        },
        "trusted": true,
        "id": "3kiMx4SqipyA"
      },
      "execution_count": null,
      "outputs": []
    },
    {
      "cell_type": "code",
      "source": [
        "sns.displot(clean_df, x = 'Age',hue='Gender', kind='kde')"
      ],
      "metadata": {
        "execution": {
          "iopub.status.busy": "2024-05-16T10:40:30.683234Z",
          "iopub.execute_input": "2024-05-16T10:40:30.684533Z",
          "iopub.status.idle": "2024-05-16T10:40:31.409753Z",
          "shell.execute_reply.started": "2024-05-16T10:40:30.68446Z",
          "shell.execute_reply": "2024-05-16T10:40:31.407713Z"
        },
        "trusted": true,
        "id": "nLht3DjWipyD"
      },
      "execution_count": null,
      "outputs": []
    },
    {
      "cell_type": "code",
      "source": [
        "#Visulize `Gender` distribution\n",
        "\n",
        "##Create series to count values in `Gender` column\n",
        "gender_dis = clean_df['Gender'].value_counts()\n",
        "\n",
        "##visualize in pie chart\n",
        "fig = px.pie(\n",
        "             names=gender_dis.index,\n",
        "             values= gender_dis.values,\n",
        "             title='<b>Gender Count</b>',\n",
        "             hole=.4,\n",
        "             width=400,\n",
        "             height=400\n",
        "             )\n",
        "fig.update_traces(textposition='inside',\n",
        "                  textinfo='percent+label+value',\n",
        "                  textfont_size=15,\n",
        "                  marker=dict(colors=['#BB2525', '#279EFF'], line=dict(color='#000000', width=2)))\n",
        "fig.update_layout(title={'font': {'size': 25}}, showlegend=False)\n",
        "fig.show()"
      ],
      "metadata": {
        "execution": {
          "iopub.status.busy": "2024-05-16T10:40:31.41203Z",
          "iopub.execute_input": "2024-05-16T10:40:31.412556Z",
          "iopub.status.idle": "2024-05-16T10:40:31.55758Z",
          "shell.execute_reply.started": "2024-05-16T10:40:31.412515Z",
          "shell.execute_reply": "2024-05-16T10:40:31.556034Z"
        },
        "trusted": true,
        "id": "YM8_IN8GipyE"
      },
      "execution_count": null,
      "outputs": []
    },
    {
      "cell_type": "code",
      "source": [
        "avg_cost = clean_df['Age'].mean().round(0)\n",
        "\n",
        "fig = px.histogram(\n",
        "    clean_df,\n",
        "    x = 'Age',\n",
        "    color='Gender',\n",
        "    # labels={'comb08': \"Annual Fuel Cost\"},\n",
        "    nbins=10,\n",
        "    title='Age Distribution',\n",
        "    color_discrete_sequence=px.colors.sequential.Magenta_r,\n",
        ")\n",
        "fig.add_vline(\n",
        "    x = avg_cost,\n",
        "    annotation_text = f'Average {avg_cost}'\n",
        ")\n",
        "fig.show()"
      ],
      "metadata": {
        "execution": {
          "iopub.status.busy": "2024-05-16T10:40:31.559442Z",
          "iopub.execute_input": "2024-05-16T10:40:31.559908Z",
          "iopub.status.idle": "2024-05-16T10:40:31.732646Z",
          "shell.execute_reply.started": "2024-05-16T10:40:31.559872Z",
          "shell.execute_reply": "2024-05-16T10:40:31.731048Z"
        },
        "trusted": true,
        "id": "FmjPKqcTipyF"
      },
      "execution_count": null,
      "outputs": []
    },
    {
      "cell_type": "code",
      "source": [
        "clean_df.tail()"
      ],
      "metadata": {
        "execution": {
          "iopub.status.busy": "2024-05-16T10:40:31.734012Z",
          "iopub.execute_input": "2024-05-16T10:40:31.734385Z",
          "iopub.status.idle": "2024-05-16T10:40:31.748466Z",
          "shell.execute_reply.started": "2024-05-16T10:40:31.734354Z",
          "shell.execute_reply": "2024-05-16T10:40:31.746708Z"
        },
        "trusted": true,
        "id": "vaZgMkZcipyH"
      },
      "execution_count": null,
      "outputs": []
    },
    {
      "cell_type": "code",
      "source": [
        "avg_cost = clean_df['Annual Income'].mean().round(0)\n",
        "\n",
        "fig = px.histogram(\n",
        "    clean_df,\n",
        "    x = 'Annual Income',\n",
        "    color='Gender',\n",
        "    # labels={'comb08': \"Annual Fuel Cost\"},\n",
        "    nbins=10,\n",
        "    title='Annual Income Distribution',\n",
        "    color_discrete_sequence=px.colors.sequential.Magenta_r,\n",
        ")\n",
        "fig.add_vline(\n",
        "    x = avg_cost,\n",
        "    annotation_text = f'Average ${avg_cost}k'\n",
        ")\n",
        "fig.show()"
      ],
      "metadata": {
        "execution": {
          "iopub.status.busy": "2024-05-16T10:40:31.750868Z",
          "iopub.execute_input": "2024-05-16T10:40:31.751818Z",
          "iopub.status.idle": "2024-05-16T10:40:31.841935Z",
          "shell.execute_reply.started": "2024-05-16T10:40:31.751782Z",
          "shell.execute_reply": "2024-05-16T10:40:31.840469Z"
        },
        "trusted": true,
        "id": "Mrkt4FdKipyL"
      },
      "execution_count": null,
      "outputs": []
    },
    {
      "cell_type": "code",
      "source": [
        "df['Annual Income'].max()"
      ],
      "metadata": {
        "execution": {
          "iopub.status.busy": "2024-05-16T10:40:31.843959Z",
          "iopub.execute_input": "2024-05-16T10:40:31.844326Z",
          "iopub.status.idle": "2024-05-16T10:40:31.852965Z",
          "shell.execute_reply.started": "2024-05-16T10:40:31.844298Z",
          "shell.execute_reply": "2024-05-16T10:40:31.851468Z"
        },
        "trusted": true,
        "id": "aNzwispzipyM"
      },
      "execution_count": null,
      "outputs": []
    },
    {
      "cell_type": "code",
      "source": [
        "avg_cost = clean_df['Spending Score'].mean().round(0)\n",
        "\n",
        "fig = px.histogram(\n",
        "    clean_df,\n",
        "    x = 'Spending Score',\n",
        "    color='Gender',\n",
        "    # labels={'comb08': \"Annual Fuel Cost\"},\n",
        "    nbins=10,\n",
        "    title='Spending Score Distribution',\n",
        "    color_discrete_sequence=px.colors.sequential.Magenta_r,\n",
        ")\n",
        "fig.add_vline(\n",
        "    x = avg_cost,\n",
        "    annotation_text = f'Average ${avg_cost}k'\n",
        ")\n",
        "fig.show()"
      ],
      "metadata": {
        "execution": {
          "iopub.status.busy": "2024-05-16T10:40:31.854496Z",
          "iopub.execute_input": "2024-05-16T10:40:31.854926Z",
          "iopub.status.idle": "2024-05-16T10:40:31.95431Z",
          "shell.execute_reply.started": "2024-05-16T10:40:31.854897Z",
          "shell.execute_reply": "2024-05-16T10:40:31.952993Z"
        },
        "trusted": true,
        "id": "GTAVJTPzipyT"
      },
      "execution_count": null,
      "outputs": []
    },
    {
      "cell_type": "markdown",
      "source": [
        "Based on the data presented in the charts, we can make several key observations:\n",
        "\n",
        "- The distribution of Annual Income appears to be somewhat normal, with a majority of customers falling within the  $60,000 -  $80,000 range.\n",
        "- The mall customers majority are under 40 years old.\n",
        "- The Spending Score also follows a normal distribution pattern."
      ],
      "metadata": {
        "id": "sJM5q0yzipyV"
      }
    },
    {
      "cell_type": "code",
      "source": [
        "fig = px.bar(\n",
        "    clean_df,\n",
        "    x = 'Age',\n",
        "    y = 'Annual Income',\n",
        "    color='Gender',\n",
        ")\n",
        "fig.show()"
      ],
      "metadata": {
        "execution": {
          "iopub.status.busy": "2024-05-16T10:40:31.956125Z",
          "iopub.execute_input": "2024-05-16T10:40:31.956486Z",
          "iopub.status.idle": "2024-05-16T10:40:32.06384Z",
          "shell.execute_reply.started": "2024-05-16T10:40:31.956458Z",
          "shell.execute_reply": "2024-05-16T10:40:32.062305Z"
        },
        "trusted": true,
        "id": "9AvKkwStipye"
      },
      "execution_count": null,
      "outputs": []
    },
    {
      "cell_type": "code",
      "source": [
        "import plotly.graph_objects as go\n",
        "\n",
        "fig = px.bar(\n",
        "    clean_df,\n",
        "    x='Age',\n",
        "    y='Annual Income',\n",
        "    color = 'Gender'\n",
        "    )\n",
        "\n",
        "fig.show()"
      ],
      "metadata": {
        "execution": {
          "iopub.status.busy": "2024-05-16T10:40:32.065889Z",
          "iopub.execute_input": "2024-05-16T10:40:32.066311Z",
          "iopub.status.idle": "2024-05-16T10:40:32.154475Z",
          "shell.execute_reply.started": "2024-05-16T10:40:32.066279Z",
          "shell.execute_reply": "2024-05-16T10:40:32.152888Z"
        },
        "trusted": true,
        "id": "94QCeEFpipyh"
      },
      "execution_count": null,
      "outputs": []
    },
    {
      "cell_type": "code",
      "source": [
        "import plotly.graph_objects as go\n",
        "\n",
        "fig = px.bar(\n",
        "    clean_df,\n",
        "    x='Age',\n",
        "    y='Spending Score',\n",
        "    color = 'Gender'\n",
        "    )\n",
        "\n",
        "fig.show()"
      ],
      "metadata": {
        "execution": {
          "iopub.status.busy": "2024-05-16T10:40:32.156589Z",
          "iopub.execute_input": "2024-05-16T10:40:32.157006Z",
          "iopub.status.idle": "2024-05-16T10:40:32.240156Z",
          "shell.execute_reply.started": "2024-05-16T10:40:32.156976Z",
          "shell.execute_reply": "2024-05-16T10:40:32.238986Z"
        },
        "trusted": true,
        "id": "C2ad0K7Lipyt"
      },
      "execution_count": null,
      "outputs": []
    },
    {
      "cell_type": "code",
      "source": [
        "fig = px.scatter(\n",
        "    clean_df,\n",
        "    x = 'Age',\n",
        "    y = 'Annual Income',\n",
        "    trendline='ols'\n",
        ")\n",
        "fig.show()"
      ],
      "metadata": {
        "execution": {
          "iopub.status.busy": "2024-05-16T10:40:32.241831Z",
          "iopub.execute_input": "2024-05-16T10:40:32.243438Z",
          "iopub.status.idle": "2024-05-16T10:40:34.174529Z",
          "shell.execute_reply.started": "2024-05-16T10:40:32.243389Z",
          "shell.execute_reply": "2024-05-16T10:40:34.173094Z"
        },
        "trusted": true,
        "id": "z7xPBMHhipyu"
      },
      "execution_count": null,
      "outputs": []
    },
    {
      "cell_type": "code",
      "source": [
        "fig = px.scatter(\n",
        "    clean_df,\n",
        "    x = 'Age',\n",
        "    y = 'Annual Income',\n",
        "    trendline='lowess'\n",
        ")\n",
        "fig.show()"
      ],
      "metadata": {
        "execution": {
          "iopub.status.busy": "2024-05-16T10:40:34.176688Z",
          "iopub.execute_input": "2024-05-16T10:40:34.177436Z",
          "iopub.status.idle": "2024-05-16T10:40:34.266416Z",
          "shell.execute_reply.started": "2024-05-16T10:40:34.177399Z",
          "shell.execute_reply": "2024-05-16T10:40:34.264844Z"
        },
        "trusted": true,
        "id": "3FWZJBHXipyw"
      },
      "execution_count": null,
      "outputs": []
    },
    {
      "cell_type": "code",
      "source": [
        "clean_df.tail(7)"
      ],
      "metadata": {
        "execution": {
          "iopub.status.busy": "2024-05-16T10:40:34.274528Z",
          "iopub.execute_input": "2024-05-16T10:40:34.274971Z",
          "iopub.status.idle": "2024-05-16T10:40:34.287347Z",
          "shell.execute_reply.started": "2024-05-16T10:40:34.274941Z",
          "shell.execute_reply": "2024-05-16T10:40:34.285623Z"
        },
        "trusted": true,
        "id": "j5_TdId6ipyx"
      },
      "execution_count": null,
      "outputs": []
    },
    {
      "cell_type": "code",
      "source": [
        "fig = px.sunburst(\n",
        "    clean_df,\n",
        "    path = ['Gender', 'Age', 'Annual Income'],\n",
        "    values='Spending Score'\n",
        ")\n",
        "\n",
        "fig.show()"
      ],
      "metadata": {
        "execution": {
          "iopub.status.busy": "2024-05-16T10:40:34.289217Z",
          "iopub.execute_input": "2024-05-16T10:40:34.289626Z",
          "iopub.status.idle": "2024-05-16T10:40:34.510505Z",
          "shell.execute_reply.started": "2024-05-16T10:40:34.289567Z",
          "shell.execute_reply": "2024-05-16T10:40:34.50891Z"
        },
        "trusted": true,
        "id": "vmqX6VAMipyy"
      },
      "execution_count": null,
      "outputs": []
    },
    {
      "cell_type": "code",
      "source": [
        "sns.pairplot(clean_df,hue='Gender')"
      ],
      "metadata": {
        "execution": {
          "iopub.status.busy": "2024-05-16T10:40:34.512879Z",
          "iopub.execute_input": "2024-05-16T10:40:34.514452Z",
          "iopub.status.idle": "2024-05-16T10:40:39.16206Z",
          "shell.execute_reply.started": "2024-05-16T10:40:34.514383Z",
          "shell.execute_reply": "2024-05-16T10:40:39.160853Z"
        },
        "trusted": true,
        "id": "dBHTiM5Bipyz"
      },
      "execution_count": null,
      "outputs": []
    },
    {
      "cell_type": "code",
      "source": [
        "#Create heatmap to check correlation of all numerical features\n",
        "plt.figure(figsize=(10,8))\n",
        "sns.heatmap(clean_df.drop('Gender',axis=1).corr(), annot=True, cmap=plt.cm.Reds)"
      ],
      "metadata": {
        "execution": {
          "iopub.status.busy": "2024-05-16T10:40:39.163579Z",
          "iopub.execute_input": "2024-05-16T10:40:39.16416Z",
          "iopub.status.idle": "2024-05-16T10:40:39.506209Z",
          "shell.execute_reply.started": "2024-05-16T10:40:39.164126Z",
          "shell.execute_reply": "2024-05-16T10:40:39.504908Z"
        },
        "trusted": true,
        "id": "Eur9kunHipyz"
      },
      "execution_count": null,
      "outputs": []
    },
    {
      "cell_type": "markdown",
      "source": [
        "- There is an inverse relationship between Age and both Annual Income and Spending Score, suggesting that as age increases, annual income and spending score tend to decrease.\n",
        "- Annual Income and Spending Score exhibit a positive correlation, meaning that as annual income increases, spending score also tends to increase.\n",
        "- Overall, there is no strong correlation observed among the three features, Age, Annual Income, and Spending Score"
      ],
      "metadata": {
        "id": "kiwKnFCNipy0"
      }
    },
    {
      "cell_type": "markdown",
      "source": [
        "# 4. Modeling"
      ],
      "metadata": {
        "id": "m-ovDopQipy1"
      }
    },
    {
      "cell_type": "code",
      "source": [
        "#Define number of cluster want to fit and evaluate\n",
        "num_clusters = [i for i in range(2, 16)]\n",
        "num_clusters"
      ],
      "metadata": {
        "execution": {
          "iopub.status.busy": "2024-05-16T10:40:39.507772Z",
          "iopub.execute_input": "2024-05-16T10:40:39.509772Z",
          "iopub.status.idle": "2024-05-16T10:40:39.523592Z",
          "shell.execute_reply.started": "2024-05-16T10:40:39.509718Z",
          "shell.execute_reply": "2024-05-16T10:40:39.520879Z"
        },
        "trusted": true,
        "id": "48YbfvH9ipy2"
      },
      "execution_count": null,
      "outputs": []
    },
    {
      "cell_type": "code",
      "source": [
        "#Create subset dataframe with 2 features: `Annual Income` and `Spending Score`\n",
        "X_2dim = clean_df[['Annual Income','Spending Score']]"
      ],
      "metadata": {
        "execution": {
          "iopub.status.busy": "2024-05-16T10:40:39.525141Z",
          "iopub.execute_input": "2024-05-16T10:40:39.525717Z",
          "iopub.status.idle": "2024-05-16T10:40:39.540022Z",
          "shell.execute_reply.started": "2024-05-16T10:40:39.525671Z",
          "shell.execute_reply": "2024-05-16T10:40:39.53805Z"
        },
        "trusted": true,
        "id": "lkfYs8JHipy3"
      },
      "execution_count": null,
      "outputs": []
    },
    {
      "cell_type": "code",
      "source": [
        "#Standarize the data\n",
        "X_2dim_scaled = StandardScaler().fit_transform(X_2dim)\n",
        "#Transform to dataframe\n",
        "X_2dim_scaled = pd.DataFrame(X_2dim_scaled,columns = X_2dim.columns)\n",
        "#Double check dataframe\n",
        "X_2dim_scaled.describe()"
      ],
      "metadata": {
        "execution": {
          "iopub.status.busy": "2024-05-16T10:40:39.541498Z",
          "iopub.execute_input": "2024-05-16T10:40:39.542024Z",
          "iopub.status.idle": "2024-05-16T10:40:39.576649Z",
          "shell.execute_reply.started": "2024-05-16T10:40:39.541983Z",
          "shell.execute_reply": "2024-05-16T10:40:39.575171Z"
        },
        "trusted": true,
        "id": "6rCMJx99ipy5"
      },
      "execution_count": null,
      "outputs": []
    },
    {
      "cell_type": "code",
      "source": [
        "#Funtion to fit kmeans and evaluate inertia for different number of cluster\n",
        "\n",
        "def kmeans_inertia(num_clusters, x_vals):\n",
        "  \"\"\"\n",
        "  Accepts as arguments list of ints and data array.\n",
        "  Fits a KMeans model where k = each value in the list of ints.\n",
        "\n",
        "  Parameters:\n",
        "    - num_clusters: number of cluster will fit and evaluate inertia\n",
        "    - x_vals: the dataframe need to fit and evaluate inertia\n",
        "\n",
        "  Returns list of inertia value for each k using KMeans model to fit.\n",
        "  \"\"\"\n",
        "  inertia = []\n",
        "  for num in num_clusters:\n",
        "    kms = KMeans(n_clusters=num, random_state=20)\n",
        "    kms.fit(x_vals)\n",
        "    inertia.append(kms.inertia_)\n",
        "\n",
        "  return inertia"
      ],
      "metadata": {
        "execution": {
          "iopub.status.busy": "2024-05-16T10:40:39.580322Z",
          "iopub.execute_input": "2024-05-16T10:40:39.580907Z",
          "iopub.status.idle": "2024-05-16T10:40:39.590121Z",
          "shell.execute_reply.started": "2024-05-16T10:40:39.58086Z",
          "shell.execute_reply": "2024-05-16T10:40:39.588295Z"
        },
        "trusted": true,
        "id": "et9ZGoiqipy5"
      },
      "execution_count": null,
      "outputs": []
    },
    {
      "cell_type": "code",
      "source": [
        "#Call kmeans_inertia function to return list of inertia\n",
        "inertia_2dim = kmeans_inertia(num_clusters,X_2dim)\n",
        "#Display list of inertia\n",
        "inertia_2dim"
      ],
      "metadata": {
        "execution": {
          "iopub.status.busy": "2024-05-16T10:40:39.592765Z",
          "iopub.execute_input": "2024-05-16T10:40:39.593346Z",
          "iopub.status.idle": "2024-05-16T10:40:40.124803Z",
          "shell.execute_reply.started": "2024-05-16T10:40:39.593283Z",
          "shell.execute_reply": "2024-05-16T10:40:40.123427Z"
        },
        "trusted": true,
        "id": "T7JBXJNIipy7"
      },
      "execution_count": null,
      "outputs": []
    },
    {
      "cell_type": "code",
      "source": [
        "#Create line plot to visualize inertia and number of cluster respectively\n",
        "plot = sns.lineplot(x=num_clusters, y=inertia_2dim, marker = 'o')\n",
        "plot.set_xlabel(\"Number of clusters\");\n",
        "plot.set_ylabel(\"Inertia\");"
      ],
      "metadata": {
        "execution": {
          "iopub.status.busy": "2024-05-16T10:40:40.129998Z",
          "iopub.execute_input": "2024-05-16T10:40:40.13092Z",
          "iopub.status.idle": "2024-05-16T10:40:40.425868Z",
          "shell.execute_reply.started": "2024-05-16T10:40:40.130874Z",
          "shell.execute_reply": "2024-05-16T10:40:40.42372Z"
        },
        "trusted": true,
        "id": "Lh7512phipy9"
      },
      "execution_count": null,
      "outputs": []
    },
    {
      "cell_type": "markdown",
      "source": [
        "As expected, we can see an 'elbow' clearly at 5 clusters. Next step, we will calculate silhouette score for each cluster in range of num_clusters"
      ],
      "metadata": {
        "id": "nfHBd0K2ipy-"
      }
    },
    {
      "cell_type": "code",
      "source": [
        "#Fit a 5-clusters model\n",
        "kmeans5_2dim = KMeans(n_clusters=5, n_init='auto', random_state=50)\n",
        "kmeans5_2dim.fit(X_2dim_scaled)"
      ],
      "metadata": {
        "execution": {
          "iopub.status.busy": "2024-05-16T10:40:40.427734Z",
          "iopub.execute_input": "2024-05-16T10:40:40.428217Z",
          "iopub.status.idle": "2024-05-16T10:40:40.45407Z",
          "shell.execute_reply.started": "2024-05-16T10:40:40.428182Z",
          "shell.execute_reply": "2024-05-16T10:40:40.452727Z"
        },
        "trusted": true,
        "id": "6r8MK_NOipy_"
      },
      "execution_count": null,
      "outputs": []
    },
    {
      "cell_type": "code",
      "source": [
        "#Use Counter to count number of data points in each cluster\n",
        "Counter(kmeans5_2dim.labels_)"
      ],
      "metadata": {
        "execution": {
          "iopub.status.busy": "2024-05-16T10:40:40.459053Z",
          "iopub.execute_input": "2024-05-16T10:40:40.460278Z",
          "iopub.status.idle": "2024-05-16T10:40:40.469104Z",
          "shell.execute_reply.started": "2024-05-16T10:40:40.460234Z",
          "shell.execute_reply": "2024-05-16T10:40:40.467931Z"
        },
        "trusted": true,
        "id": "1EU_HXAEipzA"
      },
      "execution_count": null,
      "outputs": []
    },
    {
      "cell_type": "code",
      "source": [
        "#Create heatmap to visulize cluster center of each cluster\n",
        "clus_cen5_2dim = pd.DataFrame(kmeans5_2dim.cluster_centers_, columns=X_2dim_scaled.columns)\n",
        "sns.heatmap(clus_cen5_2dim, cmap='RdBu', annot=True);"
      ],
      "metadata": {
        "execution": {
          "iopub.status.busy": "2024-05-16T10:40:40.471225Z",
          "iopub.execute_input": "2024-05-16T10:40:40.471679Z",
          "iopub.status.idle": "2024-05-16T10:40:40.798259Z",
          "shell.execute_reply.started": "2024-05-16T10:40:40.471636Z",
          "shell.execute_reply": "2024-05-16T10:40:40.796837Z"
        },
        "trusted": true,
        "id": "BUVUdxsnipzA"
      },
      "execution_count": null,
      "outputs": []
    },
    {
      "cell_type": "markdown",
      "source": [
        "As obseration, below are characteristics of 5 clusters:\n",
        "\n",
        "- Cluster 0: High income but low spending score\n",
        "- Cluster 1: Average income and average spending score\n",
        "- Cluster 2: Low income and high spending score\n",
        "- Cluster 3: High income and high spending score\n",
        "- Cluster 4: Low income and low spending score"
      ],
      "metadata": {
        "id": "rG5NFJoVipzC"
      }
    },
    {
      "cell_type": "code",
      "source": [
        "kmeans5_2dim.labels_"
      ],
      "metadata": {
        "execution": {
          "iopub.status.busy": "2024-05-16T10:40:40.800693Z",
          "iopub.execute_input": "2024-05-16T10:40:40.80113Z",
          "iopub.status.idle": "2024-05-16T10:40:40.810843Z",
          "shell.execute_reply.started": "2024-05-16T10:40:40.801097Z",
          "shell.execute_reply": "2024-05-16T10:40:40.809382Z"
        },
        "trusted": true,
        "id": "Vhp0HjotipzD"
      },
      "execution_count": null,
      "outputs": []
    },
    {
      "cell_type": "code",
      "source": [
        "clean_df['cluster'] = kmeans5_2dim.labels_"
      ],
      "metadata": {
        "execution": {
          "iopub.status.busy": "2024-05-16T10:40:40.81253Z",
          "iopub.execute_input": "2024-05-16T10:40:40.812969Z",
          "iopub.status.idle": "2024-05-16T10:40:40.820968Z",
          "shell.execute_reply.started": "2024-05-16T10:40:40.812936Z",
          "shell.execute_reply": "2024-05-16T10:40:40.819659Z"
        },
        "trusted": true,
        "id": "9aFf7qkXipzF"
      },
      "execution_count": null,
      "outputs": []
    },
    {
      "cell_type": "code",
      "source": [
        "#Create scatterplot to visualize clusters in 2 dimensions\n",
        "sns.scatterplot(x='Annual Income',\n",
        "                y='Spending Score',\n",
        "                hue=kmeans5_2dim.labels_,\n",
        "                data=clean_df,\n",
        "                palette='viridis');"
      ],
      "metadata": {
        "execution": {
          "iopub.status.busy": "2024-05-16T10:40:40.822482Z",
          "iopub.execute_input": "2024-05-16T10:40:40.822885Z",
          "iopub.status.idle": "2024-05-16T10:40:41.319662Z",
          "shell.execute_reply.started": "2024-05-16T10:40:40.822854Z",
          "shell.execute_reply": "2024-05-16T10:40:41.318063Z"
        },
        "trusted": true,
        "id": "aSZgsZtcipzG"
      },
      "execution_count": null,
      "outputs": []
    },
    {
      "cell_type": "code",
      "source": [
        "\n",
        "fig = px.scatter(clean_df, x=\"Annual Income\", y=\"Spending Score\", color=\"cluster\", symbol=\"cluster\")\n",
        "fig.show()"
      ],
      "metadata": {
        "execution": {
          "iopub.status.busy": "2024-05-16T10:40:41.321439Z",
          "iopub.execute_input": "2024-05-16T10:40:41.321879Z",
          "iopub.status.idle": "2024-05-16T10:40:41.448671Z",
          "shell.execute_reply.started": "2024-05-16T10:40:41.321843Z",
          "shell.execute_reply": "2024-05-16T10:40:41.447071Z"
        },
        "trusted": true,
        "id": "IuAkVL5LipzH"
      },
      "execution_count": null,
      "outputs": []
    },
    {
      "cell_type": "code",
      "source": [
        "fig = px.scatter(clean_df, x=\"Annual Income\", y=\"Spending Score\", color=\"cluster\",\n",
        "                 size='Spending Score', hover_data=['Spending Score'])\n",
        "fig.show()"
      ],
      "metadata": {
        "execution": {
          "iopub.status.busy": "2024-05-16T10:40:41.450236Z",
          "iopub.execute_input": "2024-05-16T10:40:41.450653Z",
          "iopub.status.idle": "2024-05-16T10:40:41.539055Z",
          "shell.execute_reply.started": "2024-05-16T10:40:41.450623Z",
          "shell.execute_reply": "2024-05-16T10:40:41.537342Z"
        },
        "trusted": true,
        "id": "rk13damtipzI"
      },
      "execution_count": null,
      "outputs": []
    },
    {
      "cell_type": "code",
      "source": [
        "clean_df.tail()"
      ],
      "metadata": {
        "execution": {
          "iopub.status.busy": "2024-05-16T10:40:41.540654Z",
          "iopub.execute_input": "2024-05-16T10:40:41.54101Z",
          "iopub.status.idle": "2024-05-16T10:40:41.555632Z",
          "shell.execute_reply.started": "2024-05-16T10:40:41.540983Z",
          "shell.execute_reply": "2024-05-16T10:40:41.554389Z"
        },
        "trusted": true,
        "id": "9O3ZMc_LipzJ"
      },
      "execution_count": null,
      "outputs": []
    },
    {
      "cell_type": "code",
      "source": [
        "#Create dataframe with 2 features: `Annual Income` and `Spending Score`\n",
        "X_3dim = clean_df.drop('Gender',axis=1)\n",
        "#Double check dataframe\n",
        "X_3dim.info()"
      ],
      "metadata": {
        "execution": {
          "iopub.status.busy": "2024-05-16T10:40:41.558415Z",
          "iopub.execute_input": "2024-05-16T10:40:41.558919Z",
          "iopub.status.idle": "2024-05-16T10:40:41.577543Z",
          "shell.execute_reply.started": "2024-05-16T10:40:41.558879Z",
          "shell.execute_reply": "2024-05-16T10:40:41.575597Z"
        },
        "trusted": true,
        "id": "YlujdCklipzL"
      },
      "execution_count": null,
      "outputs": []
    },
    {
      "cell_type": "code",
      "source": [
        "#Create dataframe with 2 features: `Annual Income` and `Spending Score`\n",
        "X_3dim = X_3dim.drop('cluster',axis=1)\n",
        "#Double check dataframe\n",
        "X_3dim.info()"
      ],
      "metadata": {
        "execution": {
          "iopub.status.busy": "2024-05-16T10:40:41.579929Z",
          "iopub.execute_input": "2024-05-16T10:40:41.580418Z",
          "iopub.status.idle": "2024-05-16T10:40:41.595771Z",
          "shell.execute_reply.started": "2024-05-16T10:40:41.580377Z",
          "shell.execute_reply": "2024-05-16T10:40:41.594397Z"
        },
        "trusted": true,
        "id": "NdfeHWlQipzL"
      },
      "execution_count": null,
      "outputs": []
    },
    {
      "cell_type": "code",
      "source": [
        "#Standarize the dataframe\n",
        "X_3dim_scaled = StandardScaler().fit_transform(X_3dim)\n",
        "#Transform to dataframe\n",
        "X_3dim_scaled = pd.DataFrame(X_3dim_scaled,columns = X_3dim.columns)\n",
        "#Double check dataframe\n",
        "X_3dim_scaled.describe()"
      ],
      "metadata": {
        "execution": {
          "iopub.status.busy": "2024-05-16T10:40:41.597098Z",
          "iopub.execute_input": "2024-05-16T10:40:41.597668Z",
          "iopub.status.idle": "2024-05-16T10:40:41.623761Z",
          "shell.execute_reply.started": "2024-05-16T10:40:41.597603Z",
          "shell.execute_reply": "2024-05-16T10:40:41.622552Z"
        },
        "trusted": true,
        "id": "YKCdWWXoipzM"
      },
      "execution_count": null,
      "outputs": []
    },
    {
      "cell_type": "code",
      "source": [
        "##Call kmeans_inertia function to return list of inertia for num_clusters\n",
        "inertia_3dim = kmeans_inertia(num_clusters, X_3dim_scaled)\n",
        "inertia_3dim"
      ],
      "metadata": {
        "execution": {
          "iopub.status.busy": "2024-05-16T10:40:41.625204Z",
          "iopub.execute_input": "2024-05-16T10:40:41.625554Z",
          "iopub.status.idle": "2024-05-16T10:40:42.089931Z",
          "shell.execute_reply.started": "2024-05-16T10:40:41.625526Z",
          "shell.execute_reply": "2024-05-16T10:40:42.088852Z"
        },
        "trusted": true,
        "id": "pGI1gVwmipzN"
      },
      "execution_count": null,
      "outputs": []
    },
    {
      "cell_type": "code",
      "source": [
        "#Create a line plot to visualize internia for each cluster\n",
        "plot = sns.lineplot(x=num_clusters, y=inertia_3dim, marker = 'o')\n",
        "plot.set_xlabel(\"Number of clusters\");\n",
        "plot.set_ylabel(\"Inertia\");"
      ],
      "metadata": {
        "execution": {
          "iopub.status.busy": "2024-05-16T10:40:42.095913Z",
          "iopub.execute_input": "2024-05-16T10:40:42.099478Z",
          "iopub.status.idle": "2024-05-16T10:40:42.394248Z",
          "shell.execute_reply.started": "2024-05-16T10:40:42.099413Z",
          "shell.execute_reply": "2024-05-16T10:40:42.393143Z"
        },
        "trusted": true,
        "id": "vSAM1fGwipzN"
      },
      "execution_count": null,
      "outputs": []
    },
    {
      "cell_type": "code",
      "source": [
        "#Fit a 6-cluster model\n",
        "kmeans6_3dim = KMeans(n_clusters=6,n_init='auto',random_state=50)\n",
        "kmeans6_3dim.fit(X_3dim_scaled)"
      ],
      "metadata": {
        "execution": {
          "iopub.status.busy": "2024-05-16T10:40:42.395838Z",
          "iopub.execute_input": "2024-05-16T10:40:42.397177Z",
          "iopub.status.idle": "2024-05-16T10:40:42.413255Z",
          "shell.execute_reply.started": "2024-05-16T10:40:42.397133Z",
          "shell.execute_reply": "2024-05-16T10:40:42.41205Z"
        },
        "trusted": true,
        "id": "meP0ZPXYipzO"
      },
      "execution_count": null,
      "outputs": []
    },
    {
      "cell_type": "code",
      "source": [
        "#Find the number of data points in each cluster using Counter\n",
        "Counter(kmeans6_3dim.labels_)"
      ],
      "metadata": {
        "execution": {
          "iopub.status.busy": "2024-05-16T10:40:42.414947Z",
          "iopub.execute_input": "2024-05-16T10:40:42.416127Z",
          "iopub.status.idle": "2024-05-16T10:40:42.425406Z",
          "shell.execute_reply.started": "2024-05-16T10:40:42.416079Z",
          "shell.execute_reply": "2024-05-16T10:40:42.424279Z"
        },
        "trusted": true,
        "id": "3AwHqdvzipzP"
      },
      "execution_count": null,
      "outputs": []
    },
    {
      "cell_type": "code",
      "source": [
        "kmeans6_3dim.labels_"
      ],
      "metadata": {
        "execution": {
          "iopub.status.busy": "2024-05-16T10:40:42.427173Z",
          "iopub.execute_input": "2024-05-16T10:40:42.428425Z",
          "iopub.status.idle": "2024-05-16T10:40:42.439339Z",
          "shell.execute_reply.started": "2024-05-16T10:40:42.428382Z",
          "shell.execute_reply": "2024-05-16T10:40:42.438001Z"
        },
        "trusted": true,
        "id": "JubXc2uLipzQ"
      },
      "execution_count": null,
      "outputs": []
    },
    {
      "cell_type": "code",
      "source": [],
      "metadata": {
        "trusted": true,
        "id": "OkfJW82yipzR"
      },
      "execution_count": null,
      "outputs": []
    },
    {
      "cell_type": "code",
      "source": [
        "#Create a heat map of the cluster centers\n",
        "plt.figure(figsize=(10,8))\n",
        "clus_cen6_3dim = pd.DataFrame(kmeans6_3dim.cluster_centers_, columns=X_3dim_scaled.columns)\n",
        "sns.heatmap(clus_cen6_3dim, cmap='RdBu', annot=True);"
      ],
      "metadata": {
        "execution": {
          "iopub.status.busy": "2024-05-16T10:40:42.441181Z",
          "iopub.execute_input": "2024-05-16T10:40:42.441587Z",
          "iopub.status.idle": "2024-05-16T10:40:42.855461Z",
          "shell.execute_reply.started": "2024-05-16T10:40:42.441555Z",
          "shell.execute_reply": "2024-05-16T10:40:42.853656Z"
        },
        "trusted": true,
        "id": "fplPNLGCipzS"
      },
      "execution_count": null,
      "outputs": []
    },
    {
      "cell_type": "code",
      "source": [
        "#Add cluster label to dataframe\n",
        "clean_df['kmeans6_3dim_labels'] = kmeans6_3dim.labels_\n",
        "#Change type to category\n",
        "clean_df['kmeans6_3dim_labels'] = clean_df['kmeans6_3dim_labels'].astype('category')\n",
        "#Create boxplot visual to see compare each cluster in each feature\n"
      ],
      "metadata": {
        "execution": {
          "iopub.status.busy": "2024-05-16T10:43:30.041205Z",
          "iopub.execute_input": "2024-05-16T10:43:30.041711Z",
          "iopub.status.idle": "2024-05-16T10:43:30.050782Z",
          "shell.execute_reply.started": "2024-05-16T10:43:30.041678Z",
          "shell.execute_reply": "2024-05-16T10:43:30.049188Z"
        },
        "trusted": true,
        "id": "1HqHi_stipzT"
      },
      "execution_count": null,
      "outputs": []
    },
    {
      "cell_type": "code",
      "source": [
        "\n",
        "\n",
        "#3D scatterplot to show all clusters\n",
        "fig = px.scatter_3d(clean_df,\n",
        "                    x='Annual Income',\n",
        "                    y='Spending Score',\n",
        "                    z='Age',\n",
        "                    color='kmeans6_3dim_labels',\n",
        "                    labels={\"kmeans6_3dim_labels\": \"Cluster\"},\n",
        "                    category_orders={'kmeans6_3dim_labels':[0,1,2,3,4,5]})\n",
        "fig.show()\n"
      ],
      "metadata": {
        "execution": {
          "iopub.status.busy": "2024-05-16T10:43:33.051416Z",
          "iopub.execute_input": "2024-05-16T10:43:33.053072Z",
          "iopub.status.idle": "2024-05-16T10:43:33.158482Z",
          "shell.execute_reply.started": "2024-05-16T10:43:33.052993Z",
          "shell.execute_reply": "2024-05-16T10:43:33.157035Z"
        },
        "trusted": true,
        "id": "e66QfL_1ipzT"
      },
      "execution_count": null,
      "outputs": []
    },
    {
      "cell_type": "markdown",
      "source": [
        "Here we complete our basic Market Segmentation Basic Project that give a good overview of the system."
      ],
      "metadata": {
        "id": "3dE3wdPzipzU"
      }
    }
  ]
}